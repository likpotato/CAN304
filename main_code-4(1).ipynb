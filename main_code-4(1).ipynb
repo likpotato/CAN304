{
 "cells": [
  {
   "cell_type": "markdown",
   "id": "e1333ceb",
   "metadata": {},
   "source": [
    "## 基于同态加密实现和改进"
   ]
  },
  {
   "cell_type": "code",
   "execution_count": 7,
   "id": "193df0a9",
   "metadata": {},
   "outputs": [],
   "source": [
    "# S:密钥 用于解密\n",
    "# M:公钥 用于加密\n",
    "# c:密文\n",
    "# x:明文\n",
    "# w:用于给明文x加权\n",
    "# e:随机噪声"
   ]
  },
  {
   "cell_type": "code",
   "execution_count": null,
   "id": "98d4d7ce",
   "metadata": {},
   "outputs": [],
   "source": [
    "#x ->加密->c\n",
    "#x+x->加密->c+c\n",
    "#x*10->加密->c*10"
   ]
  },
  {
   "cell_type": "code",
   "execution_count": null,
   "id": "621084cb",
   "metadata": {},
   "outputs": [],
   "source": [
    "# 神经网络中的加密\n",
    "\n",
    "y  = relu(wx+b)\n",
    "\n",
    "y_c = relu(w_c*x_c+b_c)\n",
    "\n",
    "# 神经网络 分类 预测房价。。。"
   ]
  },
  {
   "cell_type": "code",
   "execution_count": 8,
   "id": "3a2f897c",
   "metadata": {},
   "outputs": [],
   "source": [
    "# 特别重要的公式 Sc = wx+e\n",
    "# c = (wx+e)/S\n",
    "# x = (Sc-e)/w\n",
    "# 同态加密的关键步骤：公私钥对的生成，加密，解密\n",
    "# 此外，同态加密还涉及数学运算"
   ]
  },
  {
   "cell_type": "code",
   "execution_count": 3,
   "id": "acb143ae",
   "metadata": {},
   "outputs": [],
   "source": [
    "import numpy as np"
   ]
  },
  {
   "cell_type": "markdown",
   "id": "16f247e6",
   "metadata": {},
   "source": [
    "### 首先实现一个简单的同态加密的例子"
   ]
  },
  {
   "cell_type": "code",
   "execution_count": 84,
   "id": "7a724d37",
   "metadata": {},
   "outputs": [],
   "source": [
    "# 这一步中我们产生密钥S\n",
    "def generate_key(w,m,n):\n",
    "    S = (np.random.rand(m,n) * w / (2 ** 16)) \n",
    "    return S"
   ]
  },
  {
   "cell_type": "code",
   "execution_count": 85,
   "id": "467ba327",
   "metadata": {},
   "outputs": [],
   "source": [
    "# 这一步中对明文x进行加密，加密密钥为S，返回密文c\n",
    "def encrypt(x,S,m,n,w):\n",
    "    e = (np.random.rand(m))  # noise\n",
    "    # # Sc = (wx+e)\n",
    "    # (S^(-1))Sc =(S^(-1)) (wx+e)\n",
    "    # c = (S^(-1)) (wx+e)\n",
    "    c = np.linalg.inv(S).dot((w * x) + e) # \n",
    "    return c"
   ]
  },
  {
   "cell_type": "code",
   "execution_count": 86,
   "id": "ffb3744e",
   "metadata": {},
   "outputs": [],
   "source": [
    "# 这一步基于密文c,密钥S和权重w, 对密文进行解密\n",
    "# x = (Sc)/w\n",
    "# c——>x\n",
    "def decrypt(c,S,w):\n",
    "    x_recon = (S.dot(c) / w).astype('int')\n",
    "    return x_recon"
   ]
  },
  {
   "cell_type": "code",
   "execution_count": 87,
   "id": "a7a2487b",
   "metadata": {
    "scrolled": true
   },
   "outputs": [
    {
     "data": {
      "text/plain": [
       "array([[1.60535102e-04, 1.79058944e-05, 1.34292958e-05, 7.89049839e-05],\n",
       "       [1.44160597e-04, 2.08471330e-04, 7.00835999e-05, 4.22527409e-05],\n",
       "       [3.27200210e-05, 2.42835407e-04, 4.38227220e-05, 7.75260798e-05],\n",
       "       [1.38743019e-04, 2.28236682e-06, 2.19884917e-04, 2.38584334e-04]])"
      ]
     },
     "execution_count": 87,
     "metadata": {},
     "output_type": "execute_result"
    }
   ],
   "source": [
    "x = np.array([0,1,2,5]) # 明文\n",
    "m = len(x) # 明文的长度 4\n",
    "n = m\n",
    "w = 16# 权重w\n",
    "S = generate_key(w,m,n)\n",
    "S # 产生密钥"
   ]
  },
  {
   "cell_type": "markdown",
   "id": "229f0259",
   "metadata": {},
   "source": [
    "### 下面探究加密算法的同态性"
   ]
  },
  {
   "cell_type": "code",
   "execution_count": 88,
   "id": "b9e40029",
   "metadata": {},
   "outputs": [
    {
     "data": {
      "text/plain": [
       "array([-119991.34741798,   44374.56128831,  221715.59407337,\n",
       "        203379.64187519])"
      ]
     },
     "execution_count": 88,
     "metadata": {},
     "output_type": "execute_result"
    }
   ],
   "source": [
    "# 基于密钥对明文进行加密，得到密文c\n",
    "x = np.array([0,1,2,5])\n",
    "c = encrypt(x,S,m,n,w)\n",
    "c"
   ]
  },
  {
   "cell_type": "code",
   "execution_count": null,
   "id": "5d9b8d0f",
   "metadata": {},
   "outputs": [],
   "source": [
    "# c+c解密之后得到x+x"
   ]
  },
  {
   "cell_type": "code",
   "execution_count": 89,
   "id": "0f14e2e9",
   "metadata": {},
   "outputs": [
    {
     "data": {
      "text/plain": [
       "array([0, 1, 2, 5])"
      ]
     },
     "execution_count": 89,
     "metadata": {},
     "output_type": "execute_result"
    }
   ],
   "source": [
    "# 基于权重w和密钥S对密文c进行解密\n",
    "# c S w\n",
    "x_recon = decrypt(c,S,w)\n",
    "x_recon # "
   ]
  },
  {
   "cell_type": "code",
   "execution_count": 90,
   "id": "05f45b55",
   "metadata": {},
   "outputs": [
    {
     "data": {
      "text/plain": [
       "array([ 0,  3,  6, 15])"
      ]
     },
     "execution_count": 90,
     "metadata": {},
     "output_type": "execute_result"
    }
   ],
   "source": [
    "# 1.对加法的同态性\n",
    "decrypt(c+c+c,S,w)"
   ]
  },
  {
   "cell_type": "code",
   "execution_count": 91,
   "id": "b2dd3cf0",
   "metadata": {},
   "outputs": [],
   "source": [
    "# c+c解密后等于x+x"
   ]
  },
  {
   "cell_type": "code",
   "execution_count": 92,
   "id": "9876d399",
   "metadata": {},
   "outputs": [
    {
     "data": {
      "text/plain": [
       "array([  3, 100, 202, 504])"
      ]
     },
     "execution_count": 92,
     "metadata": {},
     "output_type": "execute_result"
    }
   ],
   "source": [
    "# 2.对乘法的同态性\n",
    "# c*100解密后等于x*100\n",
    "decrypt(c*100,S,w) "
   ]
  },
  {
   "cell_type": "markdown",
   "id": "6807f9f1",
   "metadata": {},
   "source": [
    "## 同态加密的改进算法\n",
    "\n",
    "基于这篇paper来写的\n",
    "\n",
    "https://eprint.iacr.org/2012/144.pdf"
   ]
  },
  {
   "cell_type": "code",
   "execution_count": null,
   "id": "e331ea53",
   "metadata": {},
   "outputs": [],
   "source": []
  },
  {
   "cell_type": "code",
   "execution_count": 2,
   "id": "f020d5dd",
   "metadata": {},
   "outputs": [],
   "source": [
    "import numpy as np\n",
    "from numpy.polynomial import polynomial as poly\n",
    "\n",
    "def polymul(x, y, modulus, poly_mod):\n",
    "    \"\"\"Add two polynoms\n",
    "    Args:\n",
    "        x, y: two polynoms to be added.\n",
    "        modulus: coefficient modulus.\n",
    "        poly_mod: polynomial modulus.\n",
    "    Returns:\n",
    "        A polynomial in Z_modulus[X]/(poly_mod).\n",
    "    \"\"\"\n",
    "    return np.int64(\n",
    "        np.round(poly.polydiv(poly.polymul(x, y) % modulus, poly_mod)[1] % modulus)\n",
    "    )\n",
    "\n",
    "\n",
    "def polyadd(x, y, modulus, poly_mod):\n",
    "    \"\"\"Multiply two polynoms\n",
    "    Args:\n",
    "        x, y: two polynoms to be multiplied.\n",
    "        modulus: coefficient modulus.\n",
    "        poly_mod: polynomial modulus.\n",
    "    Returns:\n",
    "        A polynomial in Z_modulus[X]/(poly_mod).\n",
    "    \"\"\"\n",
    "    return np.int64(\n",
    "        np.round(poly.polydiv(poly.polyadd(x, y) % modulus, poly_mod)[1] % modulus)\n",
    "    )"
   ]
  },
  {
   "cell_type": "code",
   "execution_count": 3,
   "id": "67151787",
   "metadata": {},
   "outputs": [],
   "source": [
    "def gen_binary_poly(size):\n",
    "    \"\"\"Generates a polynomial with coeffecients in [0, 1]\n",
    "    Args:\n",
    "        size: number of coeffcients, size-1 being the degree of the\n",
    "            polynomial.\n",
    "    Returns:\n",
    "        array of coefficients with the coeff[i] being \n",
    "        the coeff of x ^ i.\n",
    "    \"\"\"\n",
    "    return np.random.randint(0, 2, size, dtype=np.int64)\n",
    "\n",
    "\n",
    "def gen_uniform_poly(size, modulus):\n",
    "    \"\"\"Generates a polynomial with coeffecients being integers in Z_modulus\n",
    "    Args:\n",
    "        size: number of coeffcients, size-1 being the degree of the\n",
    "            polynomial.\n",
    "    Returns:\n",
    "        array of coefficients with the coeff[i] being \n",
    "        the coeff of x ^ i.\n",
    "    \"\"\"\n",
    "    return np.random.randint(0, modulus, size, dtype=np.int64)\n",
    "\n",
    "\n",
    "def gen_normal_poly(size):\n",
    "    \"\"\"Generates a polynomial with coeffecients in a normal distribution\n",
    "    of mean 0 and a standard deviation of 2, then discretize it.\n",
    "    Args:\n",
    "        size: number of coeffcients, size-1 being the degree of the\n",
    "            polynomial.\n",
    "    Returns:\n",
    "        array of coefficients with the coeff[i] being \n",
    "        the coeff of x ^ i.\n",
    "    \"\"\"\n",
    "    return np.int64(np.random.normal(0, 2, size=size))"
   ]
  },
  {
   "cell_type": "code",
   "execution_count": 4,
   "id": "a234421d",
   "metadata": {},
   "outputs": [],
   "source": [
    "def keygen(size, modulus, poly_mod):\n",
    "    \"\"\"Generate a public and secret keys\n",
    "    Args:\n",
    "        size: size of the polynoms for the public and secret keys.\n",
    "        modulus: coefficient modulus.\n",
    "        poly_mod: polynomial modulus.\n",
    "    Returns:\n",
    "        Public and secret key.\n",
    "    \"\"\"\n",
    "    sk = gen_binary_poly(size)\n",
    "    a = gen_uniform_poly(size, modulus)\n",
    "    e = gen_normal_poly(size)\n",
    "    b = polyadd(polymul(-a, sk, modulus, poly_mod), -e, modulus, poly_mod)\n",
    "    return (b, a), sk"
   ]
  },
  {
   "cell_type": "code",
   "execution_count": 5,
   "id": "11644a9a",
   "metadata": {},
   "outputs": [],
   "source": [
    "def encrypt(pk, size, q, t, poly_mod, pt):\n",
    "    \"\"\"Encrypt an integer.\n",
    "    Args:\n",
    "        pk: public-key.\n",
    "        size: size of polynomials.\n",
    "        q: ciphertext modulus.\n",
    "        t: plaintext modulus.\n",
    "        poly_mod: polynomial modulus.\n",
    "        pt: integer to be encrypted.\n",
    "    Returns:\n",
    "        Tuple representing a ciphertext.      \n",
    "    \"\"\"\n",
    "    # encode the integer into a plaintext polynomial\n",
    "    m = np.array([pt] + [0] * (size - 1), dtype=np.int64) % t\n",
    "    delta = q // t\n",
    "    scaled_m = delta * m  % q\n",
    "    e1 = gen_normal_poly(size)\n",
    "    e2 = gen_normal_poly(size)\n",
    "    u = gen_binary_poly(size)\n",
    "    ct0 = polyadd(\n",
    "            polyadd(\n",
    "                polymul(pk[0], u, q, poly_mod),\n",
    "                e1, q, poly_mod),\n",
    "            scaled_m, q, poly_mod\n",
    "        )\n",
    "    ct1 = polyadd(\n",
    "            polymul(pk[1], u, q, poly_mod),\n",
    "            e2, q, poly_mod\n",
    "        )\n",
    "    return (ct0, ct1)"
   ]
  },
  {
   "cell_type": "code",
   "execution_count": 6,
   "id": "98c3e58f",
   "metadata": {},
   "outputs": [],
   "source": [
    "def decrypt(sk, size, q, t, poly_mod, ct):\n",
    "    \"\"\"Decrypt a ciphertext\n",
    "    Args:\n",
    "        sk: secret-key.\n",
    "        size: size of polynomials.\n",
    "        q: ciphertext modulus.\n",
    "        t: plaintext modulus.\n",
    "        poly_mod: polynomial modulus.\n",
    "        ct: ciphertext.\n",
    "    Returns:\n",
    "        Integer representing the plaintext.\n",
    "    \"\"\"\n",
    "    scaled_pt = polyadd(\n",
    "            polymul(ct[1], sk, q, poly_mod),\n",
    "            ct[0], q, poly_mod\n",
    "        )\n",
    "    decrypted_poly = np.round(scaled_pt * t / q) % t\n",
    "    return int(decrypted_poly[0])"
   ]
  },
  {
   "cell_type": "code",
   "execution_count": 7,
   "id": "a5b61335",
   "metadata": {},
   "outputs": [],
   "source": [
    "def add_plain(ct, pt, q, t, poly_mod):\n",
    "    \"\"\"Add a ciphertext and a plaintext.\n",
    "    Args:\n",
    "        ct: ciphertext.\n",
    "        pt: integer to add.\n",
    "        q: ciphertext modulus.\n",
    "        t: plaintext modulus.\n",
    "        poly_mod: polynomial modulus.\n",
    "    Returns:\n",
    "        Tuple representing a ciphertext.\n",
    "    \"\"\"\n",
    "    size = len(poly_mod) - 1\n",
    "    # encode the integer into a plaintext polynomial\n",
    "    m = np.array([pt] + [0] * (size - 1), dtype=np.int64) % t\n",
    "    delta = q // t\n",
    "    scaled_m = delta * m  % q\n",
    "    new_ct0 = polyadd(ct[0], scaled_m, q, poly_mod)\n",
    "    return (new_ct0, ct[1])"
   ]
  },
  {
   "cell_type": "code",
   "execution_count": 8,
   "id": "e62dcaac",
   "metadata": {},
   "outputs": [],
   "source": [
    "def mul_plain(ct, pt, q, t, poly_mod):\n",
    "    \"\"\"Multiply a ciphertext and a plaintext.\n",
    "    Args:\n",
    "        ct: ciphertext.\n",
    "        pt: integer to multiply.\n",
    "        q: ciphertext modulus.\n",
    "        t: plaintext modulus.\n",
    "        poly_mod: polynomial modulus.\n",
    "    Returns:\n",
    "        Tuple representing a ciphertext.\n",
    "    \"\"\"\n",
    "    size = len(poly_mod) - 1\n",
    "    # encode the integer into a plaintext polynomial\n",
    "    m = np.array([pt] + [0] * (size - 1), dtype=np.int64) % t\n",
    "    new_c0 = polymul(ct[0], m, q, poly_mod)\n",
    "    new_c1 = polymul(ct[1], m, q, poly_mod)\n",
    "    return (new_c0, new_c1)"
   ]
  },
  {
   "cell_type": "code",
   "execution_count": 9,
   "id": "24fc37ac",
   "metadata": {},
   "outputs": [
    {
     "name": "stdout",
     "output_type": "stream",
     "text": [
      "[+] Ciphertext ct1(73):\n",
      "\n",
      "\t ct1_0: [ 6116 29848  7278 18448  7380 22337  5846  1121 28389 10632 10282 22430\n",
      "  4374 14996 23125 12470]\n",
      "\t ct1_1: [30462 31772  6498  1289 26077 31630 30685 26996 28959 28495 23370  3159\n",
      " 27057   257 32744 10700]\n",
      "\n",
      "[+] Ciphertext ct2(20):\n",
      "\n",
      "\t ct1_0: [32179 22194  7008 32205 29871 11280  6736 16484 15103  9473 19504 19186\n",
      " 15938 21280 14353 17307]\n",
      "\t ct1_1: [32080 28382 10342 11195 11104 15078 26834 29052 17580 14992  9316 23793\n",
      " 22120 12313 28610 29243]\n",
      "\n",
      "[+] Decrypted ct3(ct1 + 7): 80\n",
      "[+] Decrypted ct4(ct2 * 5): 100\n"
     ]
    }
   ],
   "source": [
    "# Scheme's parameters\n",
    "# polynomial modulus degree\n",
    "n = 2**4\n",
    "# ciphertext modulus\n",
    "q = 2**15\n",
    "# plaintext modulus\n",
    "t = 2**8\n",
    "# polynomial modulus\n",
    "poly_mod = np.array([1] + [0] * (n - 1) + [1])\n",
    "# Keygen\n",
    "pk, sk = keygen(n, q, poly_mod)\n",
    "# Encryption\n",
    "pt1, pt2 = 73, 20\n",
    "cst1, cst2 = 7, 5\n",
    "ct1 = encrypt(pk, n, q, t, poly_mod, pt1)\n",
    "ct2 = encrypt(pk, n, q, t, poly_mod, pt2)\n",
    "\n",
    "print(\"[+] Ciphertext ct1({}):\".format(pt1))\n",
    "print(\"\")\n",
    "print(\"\\t ct1_0:\", ct1[0])\n",
    "print(\"\\t ct1_1:\", ct1[1])\n",
    "print(\"\")\n",
    "print(\"[+] Ciphertext ct2({}):\".format(pt2))\n",
    "print(\"\")\n",
    "print(\"\\t ct1_0:\", ct2[0])\n",
    "print(\"\\t ct1_1:\", ct2[1])\n",
    "print(\"\")\n",
    "\n",
    "# Evaluation\n",
    "ct3 = add_plain(ct1, cst1, q, t, poly_mod)\n",
    "ct4 = mul_plain(ct2, cst2, q, t, poly_mod)\n",
    "\n",
    "# Decryption\n",
    "decrypted_ct3 = decrypt(sk, n, q, t, poly_mod, ct3)\n",
    "decrypted_ct4 = decrypt(sk, n, q, t, poly_mod, ct4)\n",
    "\n",
    "print(\"[+] Decrypted ct3(ct1 + {}): {}\".format(cst1, decrypted_ct3))\n",
    "print(\"[+] Decrypted ct4(ct2 * {}): {}\".format(cst2, decrypted_ct4))"
   ]
  },
  {
   "cell_type": "code",
   "execution_count": null,
   "id": "85011aa0",
   "metadata": {},
   "outputs": [],
   "source": []
  },
  {
   "cell_type": "code",
   "execution_count": null,
   "id": "26402b2c",
   "metadata": {},
   "outputs": [],
   "source": []
  },
  {
   "cell_type": "code",
   "execution_count": null,
   "id": "43254deb",
   "metadata": {},
   "outputs": [],
   "source": []
  },
  {
   "cell_type": "code",
   "execution_count": null,
   "id": "1fdcef32",
   "metadata": {},
   "outputs": [],
   "source": []
  },
  {
   "cell_type": "markdown",
   "id": "4dc4109f",
   "metadata": {},
   "source": [
    "### 基于同态加密的简单的神经网络的实现基础：对"
   ]
  },
  {
   "cell_type": "markdown",
   "id": "25e9cb12",
   "metadata": {},
   "source": [
    "####  原理： 神经网络虽然能实现很强大的分类、预测等任务，但是其底层仍然是加减乘除和指数。\n",
    "#### 因此可以用同态加密算法实现对简单的神经网络的加密"
   ]
  },
  {
   "cell_type": "code",
   "execution_count": 93,
   "id": "2cd75f9c",
   "metadata": {},
   "outputs": [],
   "source": [
    "np.random.seed(1234)\n",
    "input_dataset = np.array([[0.5],[0],[1],[0.2]])\n",
    "output_dataset = np.array([[0],[1],[1],[0]])"
   ]
  },
  {
   "cell_type": "code",
   "execution_count": 99,
   "id": "031bb766",
   "metadata": {},
   "outputs": [
    {
     "data": {
      "text/plain": [
       "array([[6.7496156e-05]])"
      ]
     },
     "execution_count": 99,
     "metadata": {},
     "output_type": "execute_result"
    }
   ],
   "source": [
    "x = np.array([5]) # 明文\n",
    "m = len(x) # 明文的长度\n",
    "n = m\n",
    "e = (np.random.rand(m)) \n",
    "w = 16# 权重w\n",
    "S = generate_key(w,m,n)\n",
    "S # 产生密钥"
   ]
  },
  {
   "cell_type": "code",
   "execution_count": 102,
   "id": "fb46ee2a",
   "metadata": {},
   "outputs": [],
   "source": [
    "def encrypt_vector_and_matrix(input_data):\n",
    "    output_list = []\n",
    "    m,n = input_data.shape\n",
    "    # 输入必须是一个2维数组\n",
    "    for i in range(m):\n",
    "        for j in range(n):\n",
    "            #print([input_dataset[i,j]])\n",
    "            #print(S)\n",
    "            #x = input_dataset[i,j]\n",
    "            #c = np.linalg.inv(S).dot((w * x) + e)\n",
    "            temp = encrypt(input_dataset[i,j],S,m,n,w)\n",
    "            output_list.append(temp)\n",
    "    output = np.array(output_list)\n",
    "    output = output.reshape(input_data.shape)\n",
    "    return output"
   ]
  },
  {
   "cell_type": "code",
   "execution_count": 105,
   "id": "60c56672",
   "metadata": {},
   "outputs": [],
   "source": [
    "# 加密输入数据和输出数据\n",
    "input_dataset_encrypt = encrypt_vector_and_matrix(input_dataset)\n",
    "#output_dataset_encrypt = encrypt_vector_and_matrix(output_dataset)"
   ]
  },
  {
   "cell_type": "code",
   "execution_count": 59,
   "id": "1b1d39c6",
   "metadata": {},
   "outputs": [],
   "source": [
    "# 神经网络的结构如下：\n",
    "input_dim = 3\n",
    "hidden_dim = 4\n",
    "output_dim = 1\n",
    "\n",
    "# 基于神经网络的结构去生成权重\n",
    "syn0_t = (np.random.randn(input_dim,hidden_dim) * 0.2) - 0.1\n",
    "syn1_t = (np.random.randn(output_dim,hidden_dim) * 0.2) - 0.1"
   ]
  },
  {
   "cell_type": "code",
   "execution_count": 60,
   "id": "919bd065",
   "metadata": {},
   "outputs": [],
   "source": [
    "# 单向加密权重\n",
    "syn0_encrypt = list()\n",
    "for row in syn0_t:\n",
    "    syn0_encrypt.append(encrypt(row,S,m,n,w).astype('int64'))\n",
    "syn0_encrypt = np.array(syn0)\n",
    "\n",
    "syn1_encrypt = list()\n",
    "for row in syn1_t:\n",
    "    syn1_encrypt.append(encrypt(row,S,m,n,w).astype('int64'))\n",
    "syn1_encrypt = np.array(syn1)\n"
   ]
  },
  {
   "cell_type": "code",
   "execution_count": 61,
   "id": "7fe127b1",
   "metadata": {},
   "outputs": [],
   "source": [
    "# 定义激活函数\n",
    "def sigmoid(before_activation):\n",
    "    after_activation = 1/(1+np.exp(-before_activation))\n",
    "    return after_activation"
   ]
  },
  {
   "cell_type": "code",
   "execution_count": 62,
   "id": "020d67a6",
   "metadata": {},
   "outputs": [
    {
     "data": {
      "text/plain": [
       "((4, 4), (3, 4))"
      ]
     },
     "execution_count": 62,
     "metadata": {},
     "output_type": "execute_result"
    }
   ],
   "source": [
    "# 进行加密后的神经网络的前向传播\n",
    "# 首先数据从输入层传输到隐藏层\n",
    "input_dataset_encrypt.shape,syn0_encrypt.shape"
   ]
  },
  {
   "cell_type": "code",
   "execution_count": 63,
   "id": "25378a5e",
   "metadata": {},
   "outputs": [
    {
     "ename": "ValueError",
     "evalue": "shapes (4,4) and (3,4) not aligned: 4 (dim 1) != 3 (dim 0)",
     "output_type": "error",
     "traceback": [
      "\u001b[0;31m---------------------------------------------------------------------------\u001b[0m",
      "\u001b[0;31mValueError\u001b[0m                                Traceback (most recent call last)",
      "\u001b[0;32m<ipython-input-63-574fcff37e03>\u001b[0m in \u001b[0;36m<module>\u001b[0;34m\u001b[0m\n\u001b[0;32m----> 1\u001b[0;31m \u001b[0mdecrypt\u001b[0m\u001b[0;34m(\u001b[0m\u001b[0msyn0_encrypt\u001b[0m\u001b[0;34m,\u001b[0m\u001b[0mS\u001b[0m\u001b[0;34m,\u001b[0m\u001b[0mw\u001b[0m\u001b[0;34m)\u001b[0m\u001b[0;34m\u001b[0m\u001b[0;34m\u001b[0m\u001b[0m\n\u001b[0m",
      "\u001b[0;32m<ipython-input-30-dae6df18a403>\u001b[0m in \u001b[0;36mdecrypt\u001b[0;34m(c, S, w)\u001b[0m\n\u001b[1;32m      1\u001b[0m \u001b[0;31m# 对密文进行解密（和之前一样）\u001b[0m\u001b[0;34m\u001b[0m\u001b[0;34m\u001b[0m\u001b[0;34m\u001b[0m\u001b[0m\n\u001b[1;32m      2\u001b[0m \u001b[0;32mdef\u001b[0m \u001b[0mdecrypt\u001b[0m\u001b[0;34m(\u001b[0m\u001b[0mc\u001b[0m\u001b[0;34m,\u001b[0m\u001b[0mS\u001b[0m\u001b[0;34m,\u001b[0m\u001b[0mw\u001b[0m\u001b[0;34m)\u001b[0m\u001b[0;34m:\u001b[0m\u001b[0;34m\u001b[0m\u001b[0;34m\u001b[0m\u001b[0m\n\u001b[0;32m----> 3\u001b[0;31m     \u001b[0mx_recon\u001b[0m \u001b[0;34m=\u001b[0m \u001b[0;34m(\u001b[0m\u001b[0mS\u001b[0m\u001b[0;34m.\u001b[0m\u001b[0mdot\u001b[0m\u001b[0;34m(\u001b[0m\u001b[0mc\u001b[0m\u001b[0;34m)\u001b[0m \u001b[0;34m/\u001b[0m \u001b[0mw\u001b[0m\u001b[0;34m)\u001b[0m\u001b[0;34m.\u001b[0m\u001b[0mastype\u001b[0m\u001b[0;34m(\u001b[0m\u001b[0;34m'int'\u001b[0m\u001b[0;34m)\u001b[0m\u001b[0;34m\u001b[0m\u001b[0;34m\u001b[0m\u001b[0m\n\u001b[0m\u001b[1;32m      4\u001b[0m     \u001b[0;32mreturn\u001b[0m \u001b[0mx_recon\u001b[0m\u001b[0;34m\u001b[0m\u001b[0;34m\u001b[0m\u001b[0m\n",
      "\u001b[0;31mValueError\u001b[0m: shapes (4,4) and (3,4) not aligned: 4 (dim 1) != 3 (dim 0)"
     ]
    }
   ],
   "source": [
    "decrypt(syn0_encrypt,S,w)"
   ]
  },
  {
   "cell_type": "code",
   "execution_count": null,
   "id": "22bc7438",
   "metadata": {},
   "outputs": [],
   "source": []
  }
 ],
 "metadata": {
  "kernelspec": {
   "display_name": "Python 3",
   "language": "python",
   "name": "python3"
  },
  "language_info": {
   "codemirror_mode": {
    "name": "ipython",
    "version": 3
   },
   "file_extension": ".py",
   "mimetype": "text/x-python",
   "name": "python",
   "nbconvert_exporter": "python",
   "pygments_lexer": "ipython3",
   "version": "3.8.8"
  }
 },
 "nbformat": 4,
 "nbformat_minor": 5
}
